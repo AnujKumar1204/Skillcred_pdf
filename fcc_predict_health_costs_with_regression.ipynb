{
  "cells": [
    {
      "cell_type": "code",
      "execution_count": null,
      "metadata": {
        "id": "1rRo8oNqZ-Rj"
      },
      "outputs": [],
      "source": [
        "# Import libraries. You may or may not use all of these.\n",
        "!pip install -q git+https://github.com/tensorflow/docs\n",
        "import matplotlib.pyplot as plt\n",
        "import numpy as np\n",
        "import pandas as pd\n",
        "\n",
        "try:\n",
        "  # %tensorflow_version only exists in Colab.\n",
        "  %tensorflow_version 2.x\n",
        "except Exception:\n",
        "  pass\n",
        "import tensorflow as tf\n",
        "\n",
        "from tensorflow import keras\n",
        "from tensorflow.keras import layers\n",
        "\n",
        "import tensorflow_docs as tfdocs\n",
        "import tensorflow_docs.plots\n",
        "import tensorflow_docs.modeling"
      ]
    },
    {
      "cell_type": "code",
      "execution_count": null,
      "metadata": {
        "id": "CiX2FI4gZtTt"
      },
      "outputs": [],
      "source": [
        "# Import data\n",
        "!wget https://cdn.freecodecamp.org/project-data/health-costs/insurance.csv\n",
        "dataset = pd.read_csv('insurance.csv')\n",
        "# dataset.tail()\n",
        "df = pd.DataFrame(dataset)"
      ]
    },
    {
      "cell_type": "code",
      "execution_count": null,
      "metadata": {
        "id": "LcopvQh3X-kX"
      },
      "outputs": [],
      "source": [
        "from sklearn.preprocessing import MinMaxScaler\n",
        "import pandas as pd\n",
        "\n",
        "# Assuming df is already loaded\n",
        "\n",
        "# Scale and encode features\n",
        "scaler = MinMaxScaler()\n",
        "\n",
        "df['age'] = df['age'] / 100                          # Scale age\n",
        "df['sex'].replace({'male': 0, 'female': 1}, inplace=True)  # Encode sex\n",
        "df['bmi'] = df['bmi'] / 100                          # Scale bmi\n",
        "df['children'] = df['children'] / 10                 # Scale children\n",
        "df['smoker'].replace({'yes': 1, 'no': 0}, inplace=True)    # Encode smoker\n",
        "\n",
        "# Fix typo: 'regions' should be 'region' (most likely)\n",
        "# Use get_dummies to one-hot encode the 'region' column\n",
        "df = pd.get_dummies(df, columns=['region'])\n",
        "\n",
        "# Scale expenses (make sure 'expenses' is the correct column name)\n",
        "df['expenses'] = scaler.fit_transform(df[['expenses']])\n",
        "\n",
        "# Check the result\n",
        "print(df.head())\n"
      ]
    },
    {
      "cell_type": "code",
      "source": [
        "from sklearn.linear_model import LinearRegression\n",
        "model = LinearRegression()\n",
        "from sklearn.model_selection import train_test_split\n",
        "\n",
        "x = df.drop('expenses' , axis = 1)\n",
        "y = df['expenses']\n",
        "\n",
        "train_dataset , test_dataset , train_labels , test_labels = train_test_split(x , y , test_size = 0.2 , random_state = 2)\n",
        "\n",
        "model = keras.Sequential([\n",
        "    layers.Dense(1, input_shape=[9,])\n",
        "])\n",
        "model.compile(optimizer='adam',\n",
        "              loss='mean_absolute_error',\n",
        "              metrics=['mean_absolute_error', 'mean_squared_error'])\n",
        "\n",
        "model.fit(train_dataset, train_labels, epochs=100)\n"
      ],
      "metadata": {
        "id": "CS1ttbx-YhtG"
      },
      "execution_count": null,
      "outputs": []
    },
    {
      "cell_type": "code",
      "execution_count": null,
      "metadata": {
        "id": "Xe7RXH3N3CWU"
      },
      "outputs": [],
      "source": [
        "# RUN THIS CELL TO TEST YOUR MODEL. DO NOT MODIFY CONTENTS.\n",
        "# Test model by checking how well the model generalizes using the test set.\n",
        "loss, mae, mse = model.evaluate(test_dataset, test_labels, verbose=2)\n",
        "\n",
        "print(\"Testing set Mean Abs Error: {:5.2f} expenses\".format(mae))\n",
        "\n",
        "if mae < 3500:\n",
        "  print(\"You passed the challenge. Great job!\")\n",
        "else:\n",
        "  print(\"The Mean Abs Error must be less than 3500. Keep trying.\")\n",
        "\n",
        "# Plot predictions.\n",
        "test_predictions = model.predict(test_dataset).flatten()\n",
        "\n",
        "a = plt.axes(aspect='equal')\n",
        "plt.scatter(test_labels, test_predictions)\n",
        "plt.xlabel('True values (expenses)')\n",
        "plt.ylabel('Predictions (expenses)')\n",
        "lims = [0, 50000]\n",
        "plt.xlim(lims)\n",
        "plt.ylim(lims)\n",
        "_ = plt.plot(lims,lims)\n"
      ]
    }
  ],
  "metadata": {
    "colab": {
      "name": "fcc_predict_health_costs_with_regression.ipynb",
      "private_outputs": true,
      "provenance": []
    },
    "kernelspec": {
      "display_name": "Python 3",
      "name": "python3"
    }
  },
  "nbformat": 4,
  "nbformat_minor": 0
}